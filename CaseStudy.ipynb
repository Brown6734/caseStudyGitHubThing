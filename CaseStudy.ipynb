{
  "nbformat": 4,
  "nbformat_minor": 0,
  "metadata": {
    "colab": {
      "provenance": []
    },
    "kernelspec": {
      "name": "python3",
      "display_name": "Python 3"
    },
    "language_info": {
      "name": "python"
    }
  },
  "cells": [
    {
      "cell_type": "code",
      "execution_count": null,
      "metadata": {
        "id": "eJrSuiYkIdg5",
        "colab": {
          "base_uri": "https://localhost:8080/"
        },
        "outputId": "c15e92cb-85f2-4b69-e110-2740c414d9b6"
      },
      "outputs": [
        {
          "output_type": "stream",
          "name": "stdout",
          "text": [
            "HELOO\n"
          ]
        }
      ],
      "source": [
        "#Do you guys see these words (this is Chloe)?\n",
        "#If you do, respond. Say some words below.\n",
        "\n",
        "peasework = \"HELOO WORLD\"\n",
        "print(peasework)"
      ]
    },
    {
      "cell_type": "markdown",
      "source": [
        "# New Section"
      ],
      "metadata": {
        "id": "g8hX-bcOdCTm"
      }
    },
    {
      "cell_type": "code",
      "source": [],
      "metadata": {
        "id": "iWhYJVQRac4n"
      },
      "execution_count": null,
      "outputs": []
    },
    {
      "cell_type": "code",
      "source": [
        "from google.colab import drive\n",
        "drive.mount('/content/drive')"
      ],
      "metadata": {
        "id": "wmAXWlI2aBZQ",
        "outputId": "0187c040-9a3a-4c4c-901d-e17285378e97",
        "colab": {
          "base_uri": "https://localhost:8080/"
        }
      },
      "execution_count": null,
      "outputs": [
        {
          "output_type": "stream",
          "name": "stdout",
          "text": [
            "Mounted at /content/drive\n"
          ]
        }
      ]
    },
    {
      "cell_type": "code",
      "source": [
        "thing = 5\n",
        "stuff = thing + 10\n",
        "print(thing)\n",
        "print(stuff)"
      ],
      "metadata": {
        "id": "g5f7XBKNKGIe",
        "outputId": "3f7cba79-7ab5-443a-d7e3-84b2d4cc3309",
        "colab": {
          "base_uri": "https://localhost:8080/"
        }
      },
      "execution_count": null,
      "outputs": [
        {
          "output_type": "stream",
          "name": "stdout",
          "text": [
            "5\n",
            "15\n"
          ]
        }
      ]
    },
    {
      "cell_type": "code",
      "source": [
        "import csv\n",
        "#import csv thing\n",
        "\n",
        "zeroList = []\n",
        "oneList = []\n",
        "twoList = []\n",
        "threeList = []\n",
        "\n",
        "with open(\"/content/commafiletry1.csv\") as csvfile:\n",
        "  file = csv.reader(csvfile)\n",
        "  for row in file:\n",
        "    zeroList.append(row[0])\n",
        "    oneList.append(row[1])\n",
        "    twoList.append(row[2])\n",
        "    threeList.append(row[3])\n",
        "    #only four rows/values - 0 1 2 3\n",
        "\n",
        "print(zeroList)\n",
        "print()\n",
        "print(oneList)\n",
        "print()\n",
        "print(twoList)\n",
        "print()\n",
        "print(threeList)\n"
      ],
      "metadata": {
        "colab": {
          "base_uri": "https://localhost:8080/"
        },
        "id": "md3GPgqdKsGZ",
        "outputId": "c61d5d7c-cacf-4af3-9d13-271058fae67c"
      },
      "execution_count": null,
      "outputs": [
        {
          "output_type": "stream",
          "name": "stdout",
          "text": [
            "['50', '30', '30', '100', '2345', '90909']\n",
            "\n",
            "[' 60', ' 40', ' 40', ' 100', ' 2345', ' 90909']\n",
            "\n",
            "[' 70', ' 40', ' 40', ' 100', ' 2345', ' 90909']\n",
            "\n",
            "[' 80', ' 90', ' 30', ' 100', ' 2345', ' 90909']\n"
          ]
        }
      ]
    },
    {
      "cell_type": "code",
      "source": [
        "#with open(\"/content/commafiletry1.csv\") as csvfile:\n",
        "  #file = csv.reader(csvfile)\n",
        "#  for row in file:\n",
        "\n",
        "someData = []\n",
        "some2 = []\n",
        "some4 = []\n",
        "some5 = []\n",
        "some6 = []\n",
        "some7 = []\n",
        "some8 = []\n",
        "\n",
        "\n",
        "with open(\"/content/moreEducationData.csv\") as someFile:\n",
        "  file = csv.reader(someFile)\n",
        "  for row in file:\n",
        "    someData.append(row[0])\n",
        "    some2.append(row[1])\n",
        "    some4.append(row[2])\n",
        "    some5.append(row[3])\n",
        "    some6.append(row[4])\n",
        "    some7.append(row[5])\n",
        "    some8.append(row[6])\n",
        "\n",
        "    #row 500 index out of range\n",
        "    #row 100 index out of range\n",
        "    #row 50 index out of range\n",
        "    #row 20 index out of range\n",
        "    #row 15 index out of range\n",
        "    #row 13 index out of range - IMPORTANT\n",
        "\n",
        "    #row 10 - fine\n",
        "    #row 11 - fine\n",
        "    #row 12 - fine\n",
        "\n",
        "print(\"outside\")\n",
        "print(someData)\n",
        "print(\"\")\n",
        "\n",
        "counter = -1\n",
        "\n",
        "#take some2 and break it up\n",
        "\n",
        "\n",
        "#print(\"length of some2\", len(some2))\n",
        "\n",
        "for i in range(len(some2)):\n",
        "  #funList = someData[i].split()\n",
        "\n",
        "  #funList2 = funList.split()\n",
        "\n",
        "  counter += 1\n",
        "\n",
        "  #print(\"\")\n",
        "  #print(funList, \" \", counter)\n",
        "\n",
        "\n",
        "#print(funList, \"counter \", counter)\n",
        "\n",
        "funList = someData[0].split()\n",
        "funList1 = someData[1].split()\n",
        "funList2 = someData[2].split()\n",
        "funList3 = someData[3].split()\n",
        "funList4 = someData[4].split()\n",
        "funList5 = someData[5].split()\n",
        "funList6 = someData[6].split()\n",
        "funList7 = someData[7].split()\n",
        "funList8 = someData[8].split()\n",
        "funList9 = someData[9].split()\n",
        "funList10 = someData[10].split()\n",
        "funList11 = someData[11].split()\n",
        "funList12 = someData[12].split()\n",
        "funList13 = someData[13].split()\n",
        "\n",
        "print(funList)\n",
        "print(\"print funList1 - funList13 below\")\n",
        "print(\"funList1\")\n",
        "print(funList1)\n",
        "print()\n",
        "print(\"funList2\")\n",
        "print(funList2)\n",
        "print()\n",
        "print(\"funList3\")\n",
        "print(funList3)\n",
        "print()\n",
        "print(\"funList4\")\n",
        "print(funList4)\n",
        "print()\n",
        "print(\"funList5\")\n",
        "print(funList5)\n",
        "print()\n",
        "print(\"funList6\")\n",
        "print(funList6)\n",
        "print()\n",
        "print(\"funList7\")\n",
        "print(funList7)\n",
        "print()\n",
        "print(\"funList8\")\n",
        "print(funList8)\n",
        "print()\n",
        "print(\"funList9\")\n",
        "print(funList9)\n",
        "print()\n",
        "print(\"funList10\")\n",
        "print(funList10)\n",
        "print()\n",
        "print(\"funList11\")\n",
        "print(funList11)\n",
        "print()\n",
        "print(\"funList12\")\n",
        "print(funList12)\n",
        "print()\n",
        "print(\"funList13\")\n",
        "print(funList13)\n",
        "print()\n",
        "\n",
        "#funList2 now has the individual words from header stuff/text\n",
        "\n",
        "#funList2 index 1\n",
        "#Total\n",
        "#population\n",
        "#25\n",
        "#years\n",
        "#and\n",
        "#over\n",
        "#with\n",
        "#a\n",
        "#Bachelor's\n",
        "#degree\n",
        "#or\n",
        "#higher\n",
        "\n",
        "#now want to put all those values together into one variable/string\n",
        "#funList1 variable = Total; population; 25; years; and; over; with; a; Bachelor's; degree; or; higher;\n",
        "#11 index positions\n",
        "\n",
        "#list.pop([indexvalue])\n",
        "\n",
        "saladList = funList1.pop(0)\n",
        "\n",
        "\n",
        "foodList = funList1.pop(0)\n",
        "foodList2 = funList1.pop(0)\n",
        "foodList3 = funList1.pop(0)\n",
        "foodList4 = funList1.pop(0)\n",
        "foodList5 = funList1.pop(0)\n",
        "foodList6 = funList1.pop(0)\n",
        "foodList7 = funList1.pop(0)\n",
        "foodList8 = funList1.pop(0)\n",
        "\n",
        "\n",
        "\n",
        "print(\"saladList\")\n",
        "print(saladList)\n",
        "print()\n",
        "print(foodList)\n",
        "print()\n",
        "print(foodList2)\n",
        "print()\n",
        "print(foodList3)\n",
        "print()\n",
        "print(foodList4)\n",
        "print()\n",
        "print(foodList5)\n",
        "print()\n",
        "print(foodList6)\n",
        "print()\n",
        "print(foodList7)\n",
        "print()\n",
        "print(foodList8)\n",
        "\n",
        "\n",
        "newString = saladList +\" \"+ foodList + \" \" + foodList2 + \" \" + foodList3 + \" \" + foodList4 + \" \" + foodList5\n",
        "\n",
        "print(\"newString below\")\n",
        "print(newString)\n",
        "\n",
        "\n"
      ],
      "metadata": {
        "colab": {
          "base_uri": "https://localhost:8080/"
        },
        "id": "8Zl2JpoWOcSh",
        "outputId": "1fd469ef-14d0-429d-cae4-85e1786202e4"
      },
      "execution_count": null,
      "outputs": [
        {
          "output_type": "stream",
          "name": "stdout",
          "text": [
            "outside\n",
            "['\\ufeff\"Label (Grouping)\"', \"Total population 25 years and over with a Bachelor's degree or higher\", '\\xa0\\xa0\\xa0\\xa0Science and Engineering', '\\xa0\\xa0\\xa0\\xa0Science and Engineering Related Fields', '\\xa0\\xa0\\xa0\\xa0Business', '\\xa0\\xa0\\xa0\\xa0Education', '\\xa0\\xa0\\xa0\\xa0Arts, Humanities and Others', '\\xa0\\xa0\\xa0\\xa0DETAILED AGE', '\\xa0\\xa0\\xa0\\xa0\\xa0\\xa0\\xa0\\xa025 to 39 years', '\\xa0\\xa0\\xa0\\xa0\\xa0\\xa0\\xa0\\xa0\\xa0\\xa0\\xa0\\xa0Science and Engineering', '\\xa0\\xa0\\xa0\\xa0\\xa0\\xa0\\xa0\\xa0\\xa0\\xa0\\xa0\\xa0Science and Engineering Related Fields', '\\xa0\\xa0\\xa0\\xa0\\xa0\\xa0\\xa0\\xa0\\xa0\\xa0\\xa0\\xa0Business', '\\xa0\\xa0\\xa0\\xa0\\xa0\\xa0\\xa0\\xa0\\xa0\\xa0\\xa0\\xa0Education', '\\xa0\\xa0\\xa0\\xa0\\xa0\\xa0\\xa0\\xa0\\xa0\\xa0\\xa0\\xa0Arts, Humanities and Others', '\\xa0\\xa0\\xa0\\xa0\\xa0\\xa0\\xa0\\xa040 to 64 years', '\\xa0\\xa0\\xa0\\xa0\\xa0\\xa0\\xa0\\xa0\\xa0\\xa0\\xa0\\xa0Science and Engineering', '\\xa0\\xa0\\xa0\\xa0\\xa0\\xa0\\xa0\\xa0\\xa0\\xa0\\xa0\\xa0Science and Engineering Related Fields', '\\xa0\\xa0\\xa0\\xa0\\xa0\\xa0\\xa0\\xa0\\xa0\\xa0\\xa0\\xa0Business', '\\xa0\\xa0\\xa0\\xa0\\xa0\\xa0\\xa0\\xa0\\xa0\\xa0\\xa0\\xa0Education', '\\xa0\\xa0\\xa0\\xa0\\xa0\\xa0\\xa0\\xa0\\xa0\\xa0\\xa0\\xa0Arts, Humanities and Others', '\\xa0\\xa0\\xa0\\xa0\\xa0\\xa0\\xa0\\xa065 years and over', '\\xa0\\xa0\\xa0\\xa0\\xa0\\xa0\\xa0\\xa0\\xa0\\xa0\\xa0\\xa0Science and Engineering', '\\xa0\\xa0\\xa0\\xa0\\xa0\\xa0\\xa0\\xa0\\xa0\\xa0\\xa0\\xa0Science and Engineering Related Fields', '\\xa0\\xa0\\xa0\\xa0\\xa0\\xa0\\xa0\\xa0\\xa0\\xa0\\xa0\\xa0Business', '\\xa0\\xa0\\xa0\\xa0\\xa0\\xa0\\xa0\\xa0\\xa0\\xa0\\xa0\\xa0Education', '\\xa0\\xa0\\xa0\\xa0\\xa0\\xa0\\xa0\\xa0\\xa0\\xa0\\xa0\\xa0Arts, Humanities and Others']\n",
            "\n",
            "['\\ufeff\"Label', '(Grouping)\"']\n",
            "print funList1 - funList13 below\n",
            "funList1\n",
            "['Total', 'population', '25', 'years', 'and', 'over', 'with', 'a', \"Bachelor's\", 'degree', 'or', 'higher']\n",
            "\n",
            "funList2\n",
            "['Science', 'and', 'Engineering']\n",
            "\n",
            "funList3\n",
            "['Science', 'and', 'Engineering', 'Related', 'Fields']\n",
            "\n",
            "funList4\n",
            "['Business']\n",
            "\n",
            "funList5\n",
            "['Education']\n",
            "\n",
            "funList6\n",
            "['Arts,', 'Humanities', 'and', 'Others']\n",
            "\n",
            "funList7\n",
            "['DETAILED', 'AGE']\n",
            "\n",
            "funList8\n",
            "['25', 'to', '39', 'years']\n",
            "\n",
            "funList9\n",
            "['Science', 'and', 'Engineering']\n",
            "\n",
            "funList10\n",
            "['Science', 'and', 'Engineering', 'Related', 'Fields']\n",
            "\n",
            "funList11\n",
            "['Business']\n",
            "\n",
            "funList12\n",
            "['Education']\n",
            "\n",
            "funList13\n",
            "['Arts,', 'Humanities', 'and', 'Others']\n",
            "\n",
            "saladList\n",
            "Total\n",
            "\n",
            "population\n",
            "\n",
            "25\n",
            "\n",
            "years\n",
            "\n",
            "and\n",
            "\n",
            "over\n",
            "\n",
            "with\n",
            "\n",
            "a\n",
            "\n",
            "Bachelor's\n",
            "newString below\n",
            "Total population 25 years and over\n"
          ]
        }
      ]
    },
    {
      "cell_type": "code",
      "source": [
        "#It told me when I put my csv file in, that it would not be saved\n",
        "#so how do I make it so that the csv file we add is saved (so that the file could be used again)"
      ],
      "metadata": {
        "id": "d06zCNyWb3wC"
      },
      "execution_count": null,
      "outputs": []
    }
  ]
}